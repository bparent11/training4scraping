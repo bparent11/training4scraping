{
 "cells": [
  {
   "cell_type": "code",
   "execution_count": null,
   "id": "606c4ea9",
   "metadata": {},
   "outputs": [],
   "source": [
    "import requests"
   ]
  },
  {
   "cell_type": "code",
   "execution_count": null,
   "id": "2d731d57",
   "metadata": {},
   "outputs": [],
   "source": [
    "url = \"https://www.gov.uk/search/news-and-communications\"\n",
    "page = requests.get(url)\n",
    "\n",
    "#See html source\n",
    "print(page.content)\n",
    "print(len(page.content))"
   ]
  },
  {
   "cell_type": "code",
   "execution_count": null,
   "id": "51f941be",
   "metadata": {},
   "outputs": [],
   "source": [
    "import requests\n",
    "from bs4 import BeautifulSoup\n",
    "url = \"https://www.gov.uk/search/news-and-communications\"\n",
    "page = requests.get(url)\n",
    "\n",
    "soup = BeautifulSoup(page.content, 'html.parser')"
   ]
  },
  {
   "cell_type": "code",
   "execution_count": null,
   "id": "cb8f3095",
   "metadata": {},
   "outputs": [],
   "source": [
    "soup"
   ]
  },
  {
   "cell_type": "code",
   "execution_count": null,
   "id": "228604e4",
   "metadata": {},
   "outputs": [],
   "source": [
    "type(soup.title)"
   ]
  },
  {
   "cell_type": "code",
   "execution_count": null,
   "id": "96fce3fe",
   "metadata": {},
   "outputs": [],
   "source": [
    "soup.title"
   ]
  },
  {
   "cell_type": "code",
   "execution_count": null,
   "id": "5e079ca5",
   "metadata": {},
   "outputs": [],
   "source": [
    "soup.title.string"
   ]
  },
  {
   "cell_type": "code",
   "execution_count": null,
   "id": "831205c1",
   "metadata": {},
   "outputs": [],
   "source": [
    "soup.find_all('a')"
   ]
  },
  {
   "cell_type": "code",
   "execution_count": null,
   "id": "ff58ee67",
   "metadata": {},
   "outputs": [],
   "source": [
    "print(len(soup.find_all(class_=\"govuk-footer__link\")))\n",
    "print(len(soup.find_all(\"a\", class_=\"govuk-footer__link\")))\n",
    "print(soup.find_all(\"a\", class_=\"govuk-footer__link\"))"
   ]
  },
  {
   "cell_type": "code",
   "execution_count": null,
   "id": "6b26c963",
   "metadata": {},
   "outputs": [],
   "source": [
    "soup.find_all(\"a\", class_=\"govuk-footer__link\")[-1]"
   ]
  },
  {
   "cell_type": "code",
   "execution_count": null,
   "id": "c383878b",
   "metadata": {},
   "outputs": [],
   "source": [
    "import json\n",
    "\n",
    "for element in soup.find_all(\"a\", class_=\"govuk-footer__link\"):\n",
    "    try:\n",
    "        data = element[\"data-ga4-link\"]\n",
    "        d = json.loads(data)\n",
    "        print(d['event_name'])\n",
    "        print(element.string)\n",
    "    except KeyError:\n",
    "        # L'attribut 'data-ga4-link' n'existe pas\n",
    "        print(\"Attribut 'data-ga4-link' manquant.\")\n",
    "        print(element.string)\n",
    "    except json.JSONDecodeError:\n",
    "        # Le contenu de l'attribut n'est pas un JSON valide\n",
    "        print(\"Erreur de parsing JSON.\")\n",
    "        print(element.string)"
   ]
  },
  {
   "cell_type": "markdown",
   "id": "44de3005",
   "metadata": {},
   "source": [
    "---"
   ]
  },
  {
   "cell_type": "code",
   "execution_count": 96,
   "id": "998b9fd0",
   "metadata": {},
   "outputs": [],
   "source": [
    "import requests\n",
    "from bs4 import BeautifulSoup\n",
    "url = \"https://www.tripadvisor.fr/Restaurants-g187147-Paris_Ile_de_France.html\"\n",
    "page = requests.get(url)\n",
    "\n",
    "soup = BeautifulSoup(page.content, 'html.parser')"
   ]
  },
  {
   "cell_type": "code",
   "execution_count": 97,
   "id": "c27f1eb9",
   "metadata": {},
   "outputs": [
    {
     "data": {
      "text/plain": [
       "<html lang=\"en\"><head><title>tripadvisor.fr</title><style>#cmsg{animation: A 1.5s;}@keyframes A{0%{opacity:0;}99%{opacity:0;}100%{opacity:1;}}</style></head><body style=\"margin:0\"><p id=\"cmsg\">Please enable JS and disable any ad blocker</p><script data-cfasync=\"false\">var dd={'rt':'c','cid':'AHrlqAAAAAMA2HXmbN6ikJoAVstp7Q==','hsh':'2F05D671381DB06BEE4CC52C7A6FD3','t':'bv','qp':'','s':46694,'e':'c8540ada7dbb930dbff2cb024686d2b34c5afd3297fbbc687530811e68399f1f','host':'geo.captcha-delivery.com','cookie':'oX3f0sPkC2vSDuxJAvO43u3uHfzE7ZK78F~~Hkn47XCW6b_YXwJCLUvJWBPtXcZdvauUdGcA~IX5WhK9r1Cy~hoX0KYZ5FpqBAfdbQIuJK0RIP_ur_WRFdMk9tuym2Iq'}</script><script data-cfasync=\"false\" src=\"https://ct.captcha-delivery.com/c.js\"></script></body></html>"
      ]
     },
     "execution_count": 97,
     "metadata": {},
     "output_type": "execute_result"
    }
   ],
   "source": [
    "soup"
   ]
  },
  {
   "cell_type": "code",
   "execution_count": null,
   "id": "faba944f",
   "metadata": {},
   "outputs": [],
   "source": []
  }
 ],
 "metadata": {
  "kernelspec": {
   "display_name": "base",
   "language": "python",
   "name": "python3"
  },
  "language_info": {
   "codemirror_mode": {
    "name": "ipython",
    "version": 3
   },
   "file_extension": ".py",
   "mimetype": "text/x-python",
   "name": "python",
   "nbconvert_exporter": "python",
   "pygments_lexer": "ipython3",
   "version": "3.11.5"
  }
 },
 "nbformat": 4,
 "nbformat_minor": 5
}
