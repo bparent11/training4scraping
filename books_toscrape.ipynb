{
 "cells": [
  {
   "cell_type": "code",
   "execution_count": 5,
   "id": "543046a7",
   "metadata": {},
   "outputs": [],
   "source": [
    "import requests\n",
    "from bs4 import BeautifulSoup\n",
    "import csv"
   ]
  },
  {
   "cell_type": "code",
   "execution_count": 11,
   "id": "079e4b44",
   "metadata": {},
   "outputs": [],
   "source": [
    "titles = []\n",
    "star_ratings = []\n",
    "prices = []\n",
    "availability = []\n",
    "\n",
    "for i in range(50):\n",
    "    url = f\"http://books.toscrape.com/catalogue/page-{i+1}.html\"\n",
    "    response = requests.get(url)\n",
    "    soup = BeautifulSoup(response.text, \"html.parser\")\n",
    "    books_to_scrap = soup.find_all('li', class_='col-xs-6 col-sm-4 col-md-3 col-lg-3')\n",
    "\n",
    "    for book in books_to_scrap:\n",
    "            titles.append(book.h3.a[\"title\"])\n",
    "            star_ratings.append(book.p[\"class\"][1])  # p has classes like [\"star-rating\", \"Three\"]\n",
    "            prices.append(float(book.find(\"p\", class_=\"price_color\").text[2:]))  # £51.77 → 51.77\n",
    "            availability.append(\"In stock\" in book.find(\"p\", class_=\"instock availability\").text)"
   ]
  },
  {
   "cell_type": "code",
   "execution_count": 14,
   "id": "61c0e90c",
   "metadata": {},
   "outputs": [],
   "source": [
    "with open(\"books.csv\", \"w\", newline=\"\", encoding=\"utf-8\") as f:\n",
    "    writer = csv.writer(f, delimiter=\"\\t\")\n",
    "    writer.writerow([\"title\", \"rating\", \"price\", \"available\"])\n",
    "    for i in range(len(titles)):\n",
    "        row = [titles[i], star_ratings[i], prices[i], availability[i]]\n",
    "        writer.writerow(row)"
   ]
  },
  {
   "cell_type": "code",
   "execution_count": null,
   "id": "90606774",
   "metadata": {},
   "outputs": [],
   "source": []
  }
 ],
 "metadata": {
  "kernelspec": {
   "display_name": "base",
   "language": "python",
   "name": "python3"
  },
  "language_info": {
   "codemirror_mode": {
    "name": "ipython",
    "version": 3
   },
   "file_extension": ".py",
   "mimetype": "text/x-python",
   "name": "python",
   "nbconvert_exporter": "python",
   "pygments_lexer": "ipython3",
   "version": "3.11.5"
  }
 },
 "nbformat": 4,
 "nbformat_minor": 5
}
